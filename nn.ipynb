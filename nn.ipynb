{
 "cells": [
  {
   "cell_type": "code",
   "execution_count": 76,
   "metadata": {},
   "outputs": [
    {
     "name": "stderr",
     "output_type": "stream",
     "text": [
      "/Library/Frameworks/Python.framework/Versions/3.7/lib/python3.7/site-packages/IPython/core/interactiveshell.py:3049: DtypeWarning: Columns (8) have mixed types. Specify dtype option on import or set low_memory=False.\n",
      "  interactivity=interactivity, compiler=compiler, result=result)\n"
     ]
    },
    {
     "data": {
      "text/html": [
       "<div>\n",
       "<style scoped>\n",
       "    .dataframe tbody tr th:only-of-type {\n",
       "        vertical-align: middle;\n",
       "    }\n",
       "\n",
       "    .dataframe tbody tr th {\n",
       "        vertical-align: top;\n",
       "    }\n",
       "\n",
       "    .dataframe thead th {\n",
       "        text-align: right;\n",
       "    }\n",
       "</style>\n",
       "<table border=\"1\" class=\"dataframe\">\n",
       "  <thead>\n",
       "    <tr style=\"text-align: right;\">\n",
       "      <th></th>\n",
       "      <th>Age</th>\n",
       "      <th>Overall</th>\n",
       "      <th>Potential</th>\n",
       "      <th>Value</th>\n",
       "      <th>Wage</th>\n",
       "      <th>International Reputation</th>\n",
       "      <th>Weak Foot</th>\n",
       "      <th>Skill Moves</th>\n",
       "      <th>Height (cm)</th>\n",
       "      <th>Weight</th>\n",
       "      <th>...</th>\n",
       "      <th>Penalties</th>\n",
       "      <th>Composure</th>\n",
       "      <th>Marking</th>\n",
       "      <th>StandingTackle</th>\n",
       "      <th>SlidingTackle</th>\n",
       "      <th>GKDiving</th>\n",
       "      <th>GKHandling</th>\n",
       "      <th>GKKicking</th>\n",
       "      <th>GKPositioning</th>\n",
       "      <th>GKReflexes</th>\n",
       "    </tr>\n",
       "  </thead>\n",
       "  <tbody>\n",
       "    <tr>\n",
       "      <th>0</th>\n",
       "      <td>31</td>\n",
       "      <td>94</td>\n",
       "      <td>94</td>\n",
       "      <td>110.5</td>\n",
       "      <td>565.0</td>\n",
       "      <td>5.0</td>\n",
       "      <td>4.0</td>\n",
       "      <td>4.0</td>\n",
       "      <td>67</td>\n",
       "      <td>159.0</td>\n",
       "      <td>...</td>\n",
       "      <td>75.0</td>\n",
       "      <td>96.0</td>\n",
       "      <td>33.0</td>\n",
       "      <td>28.0</td>\n",
       "      <td>26.0</td>\n",
       "      <td>6.0</td>\n",
       "      <td>11.0</td>\n",
       "      <td>15.0</td>\n",
       "      <td>14.0</td>\n",
       "      <td>8.0</td>\n",
       "    </tr>\n",
       "    <tr>\n",
       "      <th>1</th>\n",
       "      <td>33</td>\n",
       "      <td>94</td>\n",
       "      <td>94</td>\n",
       "      <td>77</td>\n",
       "      <td>405.0</td>\n",
       "      <td>5.0</td>\n",
       "      <td>4.0</td>\n",
       "      <td>5.0</td>\n",
       "      <td>74</td>\n",
       "      <td>183.0</td>\n",
       "      <td>...</td>\n",
       "      <td>85.0</td>\n",
       "      <td>95.0</td>\n",
       "      <td>28.0</td>\n",
       "      <td>31.0</td>\n",
       "      <td>23.0</td>\n",
       "      <td>7.0</td>\n",
       "      <td>11.0</td>\n",
       "      <td>15.0</td>\n",
       "      <td>14.0</td>\n",
       "      <td>11.0</td>\n",
       "    </tr>\n",
       "    <tr>\n",
       "      <th>2</th>\n",
       "      <td>26</td>\n",
       "      <td>92</td>\n",
       "      <td>93</td>\n",
       "      <td>118.5</td>\n",
       "      <td>290.0</td>\n",
       "      <td>5.0</td>\n",
       "      <td>5.0</td>\n",
       "      <td>5.0</td>\n",
       "      <td>69</td>\n",
       "      <td>150.0</td>\n",
       "      <td>...</td>\n",
       "      <td>81.0</td>\n",
       "      <td>94.0</td>\n",
       "      <td>27.0</td>\n",
       "      <td>24.0</td>\n",
       "      <td>33.0</td>\n",
       "      <td>9.0</td>\n",
       "      <td>9.0</td>\n",
       "      <td>15.0</td>\n",
       "      <td>15.0</td>\n",
       "      <td>11.0</td>\n",
       "    </tr>\n",
       "    <tr>\n",
       "      <th>3</th>\n",
       "      <td>27</td>\n",
       "      <td>91</td>\n",
       "      <td>93</td>\n",
       "      <td>72</td>\n",
       "      <td>260.0</td>\n",
       "      <td>4.0</td>\n",
       "      <td>3.0</td>\n",
       "      <td>1.0</td>\n",
       "      <td>76</td>\n",
       "      <td>168.0</td>\n",
       "      <td>...</td>\n",
       "      <td>40.0</td>\n",
       "      <td>68.0</td>\n",
       "      <td>15.0</td>\n",
       "      <td>21.0</td>\n",
       "      <td>13.0</td>\n",
       "      <td>90.0</td>\n",
       "      <td>85.0</td>\n",
       "      <td>87.0</td>\n",
       "      <td>88.0</td>\n",
       "      <td>94.0</td>\n",
       "    </tr>\n",
       "    <tr>\n",
       "      <th>4</th>\n",
       "      <td>27</td>\n",
       "      <td>91</td>\n",
       "      <td>92</td>\n",
       "      <td>102</td>\n",
       "      <td>355.0</td>\n",
       "      <td>4.0</td>\n",
       "      <td>5.0</td>\n",
       "      <td>4.0</td>\n",
       "      <td>71</td>\n",
       "      <td>154.0</td>\n",
       "      <td>...</td>\n",
       "      <td>79.0</td>\n",
       "      <td>88.0</td>\n",
       "      <td>68.0</td>\n",
       "      <td>58.0</td>\n",
       "      <td>51.0</td>\n",
       "      <td>15.0</td>\n",
       "      <td>13.0</td>\n",
       "      <td>5.0</td>\n",
       "      <td>10.0</td>\n",
       "      <td>13.0</td>\n",
       "    </tr>\n",
       "  </tbody>\n",
       "</table>\n",
       "<p>5 rows × 44 columns</p>\n",
       "</div>"
      ],
      "text/plain": [
       "   Age  Overall  Potential  Value   Wage  International Reputation  Weak Foot  \\\n",
       "0   31       94         94  110.5  565.0                       5.0        4.0   \n",
       "1   33       94         94     77  405.0                       5.0        4.0   \n",
       "2   26       92         93  118.5  290.0                       5.0        5.0   \n",
       "3   27       91         93     72  260.0                       4.0        3.0   \n",
       "4   27       91         92    102  355.0                       4.0        5.0   \n",
       "\n",
       "   Skill Moves Height (cm)  Weight  ...  Penalties  Composure  Marking  \\\n",
       "0          4.0          67   159.0  ...       75.0       96.0     33.0   \n",
       "1          5.0          74   183.0  ...       85.0       95.0     28.0   \n",
       "2          5.0          69   150.0  ...       81.0       94.0     27.0   \n",
       "3          1.0          76   168.0  ...       40.0       68.0     15.0   \n",
       "4          4.0          71   154.0  ...       79.0       88.0     68.0   \n",
       "\n",
       "   StandingTackle  SlidingTackle  GKDiving  GKHandling  GKKicking  \\\n",
       "0            28.0           26.0       6.0        11.0       15.0   \n",
       "1            31.0           23.0       7.0        11.0       15.0   \n",
       "2            24.0           33.0       9.0         9.0       15.0   \n",
       "3            21.0           13.0      90.0        85.0       87.0   \n",
       "4            58.0           51.0      15.0        13.0        5.0   \n",
       "\n",
       "   GKPositioning  GKReflexes  \n",
       "0           14.0         8.0  \n",
       "1           14.0        11.0  \n",
       "2           15.0        11.0  \n",
       "3           88.0        94.0  \n",
       "4           10.0        13.0  \n",
       "\n",
       "[5 rows x 44 columns]"
      ]
     },
     "execution_count": 76,
     "metadata": {},
     "output_type": "execute_result"
    }
   ],
   "source": [
    "#import frameworks\n",
    "import pandas as pd\n",
    "import csv\n",
    "import numpy as np\n",
    "import nltk\n",
    "import sklearn\n",
    "from sklearn.model_selection import train_test_split\n",
    "from sklearn.neural_network import MLPRegressor\n",
    "import matplotlib.pyplot as plt\n",
    "import seaborn as sns\n",
    "%matplotlib inline\n",
    "\n",
    "#load data\n",
    "file_data = pd.read_csv(\"N_Fifa.csv\")\n",
    "file_data = file_data.dropna()\n",
    "file_data.head()"
   ]
  },
  {
   "cell_type": "code",
   "execution_count": 77,
   "metadata": {},
   "outputs": [],
   "source": [
    "#preprocess data\n",
    "for item in file_data[\"Value\"]:\n",
    "    x = \"\"\n",
    "    wage = str(item)\n",
    "    for char in wage:\n",
    "        x += char\n",
    "        if (char == \"k\" or char == \"K\"):\n",
    "            pass\n",
    "    file_data[\"Value\"] = x"
   ]
  },
  {
   "cell_type": "code",
   "execution_count": 78,
   "metadata": {},
   "outputs": [
    {
     "name": "stdout",
     "output_type": "stream",
     "text": [
      "0        565.0\n",
      "1        405.0\n",
      "2        290.0\n",
      "3        260.0\n",
      "4        355.0\n",
      "5        340.0\n",
      "6        420.0\n",
      "7        455.0\n",
      "8        380.0\n",
      "9         94.0\n",
      "10       205.0\n",
      "11       355.0\n",
      "12       125.0\n",
      "13       285.0\n",
      "14       225.0\n",
      "15       205.0\n",
      "16       205.0\n",
      "17       145.0\n",
      "18       240.0\n",
      "19       240.0\n",
      "20       315.0\n",
      "21       200.0\n",
      "22       130.0\n",
      "23       300.0\n",
      "24       215.0\n",
      "25       100.0\n",
      "26       255.0\n",
      "27       285.0\n",
      "28       315.0\n",
      "29       165.0\n",
      "         ...  \n",
      "18177      1.0\n",
      "18178      1.0\n",
      "18179      1.0\n",
      "18180      1.0\n",
      "18181      1.0\n",
      "18182      1.0\n",
      "18183      1.0\n",
      "18184      1.0\n",
      "18185      1.0\n",
      "18186      1.0\n",
      "18187      1.0\n",
      "18188      1.0\n",
      "18189      1.0\n",
      "18190      1.0\n",
      "18191      1.0\n",
      "18192      1.0\n",
      "18193      1.0\n",
      "18194      1.0\n",
      "18195      1.0\n",
      "18196      1.0\n",
      "18197      1.0\n",
      "18198      1.0\n",
      "18199      1.0\n",
      "18200      1.0\n",
      "18201      1.0\n",
      "18202      1.0\n",
      "18203      1.0\n",
      "18204      1.0\n",
      "18205      1.0\n",
      "18206      1.0\n",
      "Name: Wage, Length: 17918, dtype: float64\n",
      "[565. 405. 290. ...   1.   1.   1.]\n"
     ]
    },
    {
     "data": {
      "text/html": [
       "<div>\n",
       "<style scoped>\n",
       "    .dataframe tbody tr th:only-of-type {\n",
       "        vertical-align: middle;\n",
       "    }\n",
       "\n",
       "    .dataframe tbody tr th {\n",
       "        vertical-align: top;\n",
       "    }\n",
       "\n",
       "    .dataframe thead th {\n",
       "        text-align: right;\n",
       "    }\n",
       "</style>\n",
       "<table border=\"1\" class=\"dataframe\">\n",
       "  <thead>\n",
       "    <tr style=\"text-align: right;\">\n",
       "      <th></th>\n",
       "      <th>StandingTackle</th>\n",
       "      <th>SlidingTackle</th>\n",
       "      <th>Finishing</th>\n",
       "      <th>Interceptions</th>\n",
       "    </tr>\n",
       "  </thead>\n",
       "  <tbody>\n",
       "    <tr>\n",
       "      <th>0</th>\n",
       "      <td>28.0</td>\n",
       "      <td>26.0</td>\n",
       "      <td>95.0</td>\n",
       "      <td>22.0</td>\n",
       "    </tr>\n",
       "    <tr>\n",
       "      <th>1</th>\n",
       "      <td>31.0</td>\n",
       "      <td>23.0</td>\n",
       "      <td>94.0</td>\n",
       "      <td>29.0</td>\n",
       "    </tr>\n",
       "    <tr>\n",
       "      <th>2</th>\n",
       "      <td>24.0</td>\n",
       "      <td>33.0</td>\n",
       "      <td>87.0</td>\n",
       "      <td>36.0</td>\n",
       "    </tr>\n",
       "    <tr>\n",
       "      <th>3</th>\n",
       "      <td>21.0</td>\n",
       "      <td>13.0</td>\n",
       "      <td>13.0</td>\n",
       "      <td>30.0</td>\n",
       "    </tr>\n",
       "    <tr>\n",
       "      <th>4</th>\n",
       "      <td>58.0</td>\n",
       "      <td>51.0</td>\n",
       "      <td>82.0</td>\n",
       "      <td>61.0</td>\n",
       "    </tr>\n",
       "  </tbody>\n",
       "</table>\n",
       "</div>"
      ],
      "text/plain": [
       "   StandingTackle  SlidingTackle  Finishing  Interceptions\n",
       "0            28.0           26.0       95.0           22.0\n",
       "1            31.0           23.0       94.0           29.0\n",
       "2            24.0           33.0       87.0           36.0\n",
       "3            21.0           13.0       13.0           30.0\n",
       "4            58.0           51.0       82.0           61.0"
      ]
     },
     "execution_count": 78,
     "metadata": {},
     "output_type": "execute_result"
    }
   ],
   "source": [
    "Y = np.array(file_data[\"Wage\"])\n",
    "print(file_data['Wage'])\n",
    "print(Y)\n",
    "#X = file_data.loc[[\"StandingTackle\", \"SlidingTackle\", \"Longshots\", \"Finishing\", \"Interceptions\"]]\n",
    "\n",
    "#choose features for training\n",
    "X = file_data.filter([\"StandingTackle\", \"SlidingTackle\", \"Longshots\", \"Finishing\", \"Interceptions\"], axis=1)\n",
    "X.head()"
   ]
  },
  {
   "cell_type": "code",
   "execution_count": 79,
   "metadata": {},
   "outputs": [],
   "source": [
    "#set training and testing sets\n",
    "X_train, X_test, y_train, y_test = train_test_split(X, Y, test_size=0.25)"
   ]
  },
  {
   "cell_type": "code",
   "execution_count": 80,
   "metadata": {},
   "outputs": [
    {
     "name": "stdout",
     "output_type": "stream",
     "text": [
      "       StandingTackle  SlidingTackle  Finishing  Interceptions\n",
      "9194             66.0           62.0       49.0           64.0\n",
      "2927             28.0           29.0       67.0           35.0\n",
      "11115            66.0           68.0       46.0           70.0\n",
      "16476            56.0           54.0       41.0           55.0\n",
      "4166             68.0           71.0       53.0           63.0\n",
      "13595            11.0           11.0        9.0           13.0\n",
      "2976             76.0           71.0       44.0           70.0\n",
      "7787             63.0           70.0       57.0           55.0\n",
      "1317             40.0           32.0       72.0           37.0\n",
      "12217            56.0           51.0       62.0           55.0\n",
      "13744            62.0           59.0       22.0           58.0\n",
      "5218             24.0           19.0       72.0           34.0\n",
      "7811             56.0           46.0       65.0           56.0\n",
      "9054             63.0           66.0       41.0           63.0\n",
      "15663            20.0           15.0       62.0           12.0\n",
      "6922             34.0           35.0       71.0           33.0\n",
      "17334            47.0           44.0       47.0           31.0\n",
      "14863            65.0           59.0       51.0           56.0\n",
      "14412            61.0           59.0       40.0           50.0\n",
      "11243            60.0           65.0       53.0           65.0\n",
      "16461            44.0           42.0       49.0           43.0\n",
      "9370             12.0           20.0       16.0           18.0\n",
      "6483             29.0           28.0       63.0           24.0\n",
      "17513            56.0           50.0       26.0           50.0\n",
      "13463            61.0           64.0       25.0           53.0\n",
      "12918            63.0           65.0       21.0           62.0\n",
      "3962             76.0           70.0       49.0           74.0\n",
      "12283            62.0           63.0       49.0           61.0\n",
      "13943            16.0           17.0       57.0           15.0\n",
      "4071             71.0           69.0       60.0           69.0\n",
      "...               ...            ...        ...            ...\n",
      "15368            58.0           55.0       55.0           57.0\n",
      "3629             53.0           42.0       72.0           45.0\n",
      "15668            56.0           53.0       34.0           54.0\n",
      "6691             18.0           13.0       71.0           20.0\n",
      "4736             65.0           62.0       67.0           63.0\n",
      "8523             11.0           14.0       66.0           12.0\n",
      "14817            55.0           52.0       55.0           52.0\n",
      "6117             67.0           71.0       55.0           68.0\n",
      "10984            24.0           24.0       63.0           21.0\n",
      "7250             69.0           70.0       22.0           66.0\n",
      "10537            68.0           61.0       19.0           56.0\n",
      "17952            42.0           55.0       36.0           44.0\n",
      "487              81.0           82.0       28.0           81.0\n",
      "14448            52.0           42.0       52.0           47.0\n",
      "17497            53.0           51.0       25.0           54.0\n",
      "6211             54.0           47.0       66.0           52.0\n",
      "7950             22.0           22.0       45.0           44.0\n",
      "11929            66.0           62.0       21.0           63.0\n",
      "9794             46.0           33.0       60.0           47.0\n",
      "3271             25.0           21.0       73.0           27.0\n",
      "9654             47.0           46.0       65.0           23.0\n",
      "183              23.0           18.0       70.0           20.0\n",
      "16533            43.0           45.0       36.0           44.0\n",
      "16320            65.0           64.0       19.0           50.0\n",
      "9129             17.0           20.0       63.0           18.0\n",
      "11028            26.0           23.0       67.0           18.0\n",
      "16733            17.0           16.0       58.0           19.0\n",
      "4692             71.0           69.0       24.0           70.0\n",
      "15581            53.0           52.0       42.0           49.0\n",
      "11319            65.0           64.0       25.0           65.0\n",
      "\n",
      "[4480 rows x 4 columns]\n"
     ]
    }
   ],
   "source": [
    "print(X_test)"
   ]
  },
  {
   "cell_type": "code",
   "execution_count": 81,
   "metadata": {},
   "outputs": [],
   "source": [
    "import tensorflow as tf\n",
    "from tensorflow import keras"
   ]
  },
  {
   "cell_type": "code",
   "execution_count": 95,
   "metadata": {},
   "outputs": [
    {
     "name": "stdout",
     "output_type": "stream",
     "text": [
      "_________________________________________________________________\n",
      "Layer (type)                 Output Shape              Param #   \n",
      "=================================================================\n",
      "dense_27 (Dense)             (None, 1)                 5         \n",
      "_________________________________________________________________\n",
      "dense_28 (Dense)             (None, 13)                26        \n",
      "_________________________________________________________________\n",
      "dense_29 (Dense)             (None, 1)                 14        \n",
      "=================================================================\n",
      "Total params: 45\n",
      "Trainable params: 45\n",
      "Non-trainable params: 0\n",
      "_________________________________________________________________\n"
     ]
    }
   ],
   "source": [
    "#fit model 1. Basic Neural Network. Should probably change loss function\n",
    "model = tf.keras.Sequential([keras.layers.Dense(units = 1, input_shape = [4])])\n",
    "model.add(keras.layers.Dense(units = 13, input_dim=13))\n",
    "model.add(keras.layers.Dense(units = 1))\n",
    "model.compile(optimizer='sgd', loss='mean_squared_error')\n",
    "model.summary()"
   ]
  },
  {
   "cell_type": "code",
   "execution_count": 96,
   "metadata": {},
   "outputs": [
    {
     "name": "stdout",
     "output_type": "stream",
     "text": [
      "Epoch 1/10\n",
      "13438/13438 [==============================] - 1s 59us/sample - loss: nan\n",
      "Epoch 2/10\n",
      "13438/13438 [==============================] - 0s 28us/sample - loss: nan\n",
      "Epoch 3/10\n",
      "13438/13438 [==============================] - 0s 26us/sample - loss: nan\n",
      "Epoch 4/10\n",
      "13438/13438 [==============================] - 0s 26us/sample - loss: nan\n",
      "Epoch 5/10\n",
      "13438/13438 [==============================] - 0s 25us/sample - loss: nans\n",
      "Epoch 6/10\n",
      "13438/13438 [==============================] - 0s 26us/sample - loss: nan\n",
      "Epoch 7/10\n",
      "13438/13438 [==============================] - 0s 26us/sample - loss: nan\n",
      "Epoch 8/10\n",
      "13438/13438 [==============================] - 0s 29us/sample - loss: nan\n",
      "Epoch 9/10\n",
      "13438/13438 [==============================] - 0s 26us/sample - loss: nan\n",
      "Epoch 10/10\n",
      "13438/13438 [==============================] - 0s 33us/sample - loss: nan\n"
     ]
    },
    {
     "data": {
      "text/plain": [
       "<tensorflow.python.keras.callbacks.History at 0x132747940>"
      ]
     },
     "execution_count": 96,
     "metadata": {},
     "output_type": "execute_result"
    }
   ],
   "source": [
    "model.fit(X_train, y_train, epochs=10)"
   ]
  },
  {
   "cell_type": "code",
   "execution_count": 104,
   "metadata": {},
   "outputs": [
    {
     "name": "stdout",
     "output_type": "stream",
     "text": [
      "_________________________________________________________________\n",
      "Layer (type)                 Output Shape              Param #   \n",
      "=================================================================\n",
      "dense_36 (Dense)             (None, 12)                60        \n",
      "_________________________________________________________________\n",
      "dense_37 (Dense)             (None, 8)                 104       \n",
      "_________________________________________________________________\n",
      "dense_38 (Dense)             (None, 1)                 9         \n",
      "=================================================================\n",
      "Total params: 173\n",
      "Trainable params: 173\n",
      "Non-trainable params: 0\n",
      "_________________________________________________________________\n"
     ]
    }
   ],
   "source": [
    "#fit 2nd model\n",
    "model = tf.keras.Sequential()\n",
    "model.add(keras.layers.Dense(12, input_dim=4, kernel_initializer='normal', activation='relu'))\n",
    "model.add(keras.layers.Dense(8, activation='softmax'))\n",
    "model.add(keras.layers.Dense(1, activation='linear'))\n",
    "model.summary()"
   ]
  },
  {
   "cell_type": "code",
   "execution_count": 105,
   "metadata": {},
   "outputs": [
    {
     "name": "stdout",
     "output_type": "stream",
     "text": [
      "Epoch 1/10\n",
      "13438/13438 [==============================] - 1s 53us/sample - loss: 579.7798 - mean_squared_error: 579.7797 - mean_absolute_error: 9.1739\n",
      "Epoch 2/10\n",
      "13438/13438 [==============================] - 1s 38us/sample - loss: 566.5364 - mean_squared_error: 566.5364 - mean_absolute_error: 8.6645\n",
      "Epoch 3/10\n",
      "13438/13438 [==============================] - 1s 38us/sample - loss: 555.0517 - mean_squared_error: 555.0516 - mean_absolute_error: 8.3934\n",
      "Epoch 4/10\n",
      "13438/13438 [==============================] - 1s 38us/sample - loss: 545.0568 - mean_squared_error: 545.0568 - mean_absolute_error: 8.2861\n",
      "Epoch 5/10\n",
      "13438/13438 [==============================] - 1s 39us/sample - loss: 536.3488 - mean_squared_error: 536.3490 - mean_absolute_error: 8.2933\n",
      "Epoch 6/10\n",
      "13438/13438 [==============================] - 1s 39us/sample - loss: 528.7599 - mean_squared_error: 528.7596 - mean_absolute_error: 8.3368s - loss: 513.3087 - mean_squared_error: 513.3086 - mean_absolute_error: 8.\n",
      "Epoch 7/10\n",
      "13438/13438 [==============================] - 1s 39us/sample - loss: 522.1698 - mean_squared_error: 522.1699 - mean_absolute_error: 8.4389\n",
      "Epoch 8/10\n",
      "13438/13438 [==============================] - 1s 39us/sample - loss: 516.5745 - mean_squared_error: 516.5746 - mean_absolute_error: 8.5512\n",
      "Epoch 9/10\n",
      "13438/13438 [==============================] - 1s 40us/sample - loss: 511.8263 - mean_squared_error: 511.8261 - mean_absolute_error: 8.6811\n",
      "Epoch 10/10\n",
      "13438/13438 [==============================] - 1s 47us/sample - loss: 507.4140 - mean_squared_error: 507.4142 - mean_absolute_error: 8.7524\n"
     ]
    },
    {
     "data": {
      "text/plain": [
       "<tensorflow.python.keras.callbacks.History at 0x135dcd3c8>"
      ]
     },
     "execution_count": 105,
     "metadata": {},
     "output_type": "execute_result"
    }
   ],
   "source": [
    "model.compile(loss='mse', optimizer='adam', metrics=['mse','mae'])\n",
    "model.fit(X_train, y_train, epochs=10, batch_size = 32)"
   ]
  },
  {
   "cell_type": "code",
   "execution_count": 84,
   "metadata": {},
   "outputs": [
    {
     "name": "stderr",
     "output_type": "stream",
     "text": [
      "/Library/Frameworks/Python.framework/Versions/3.7/lib/python3.7/site-packages/sklearn/neural_network/multilayer_perceptron.py:562: ConvergenceWarning: Stochastic Optimizer: Maximum iterations (200) reached and the optimization hasn't converged yet.\n",
      "  % self.max_iter, ConvergenceWarning)\n"
     ]
    },
    {
     "data": {
      "text/plain": [
       "MLPRegressor(activation='relu', alpha=0.0001, batch_size='auto', beta_1=0.9,\n",
       "       beta_2=0.999, early_stopping=False, epsilon=1e-08,\n",
       "       hidden_layer_sizes=(100,), learning_rate='constant',\n",
       "       learning_rate_init=0.001, max_iter=200, momentum=0.9,\n",
       "       n_iter_no_change=10, nesterovs_momentum=True, power_t=0.5,\n",
       "       random_state=None, shuffle=True, solver='adam', tol=0.0001,\n",
       "       validation_fraction=0.1, verbose=False, warm_start=False)"
      ]
     },
     "execution_count": 84,
     "metadata": {},
     "output_type": "execute_result"
    }
   ],
   "source": [
    "#use a multilayer perceptron for prediction\n",
    "mlp = MLPRegressor()\n",
    "mlp.fit(X_train, y_train)\n",
    "#now test on the test set"
   ]
  },
  {
   "cell_type": "code",
   "execution_count": 86,
   "metadata": {},
   "outputs": [],
   "source": [
    "y_hat = mlp.predict(X_test)"
   ]
  },
  {
   "cell_type": "code",
   "execution_count": 107,
   "metadata": {},
   "outputs": [],
   "source": [
    "arr = []\n",
    "arr.append((abs(y_test - y_hat)))"
   ]
  },
  {
   "cell_type": "code",
   "execution_count": 108,
   "metadata": {},
   "outputs": [
    {
     "name": "stdout",
     "output_type": "stream",
     "text": [
      "8.01948806974835\n"
     ]
    }
   ],
   "source": [
    "a = np.array(arr)\n",
    "print(np.mean(a))"
   ]
  }
 ],
 "metadata": {
  "kernelspec": {
   "display_name": "Python 3",
   "language": "python",
   "name": "python3"
  },
  "language_info": {
   "codemirror_mode": {
    "name": "ipython",
    "version": 3
   },
   "file_extension": ".py",
   "mimetype": "text/x-python",
   "name": "python",
   "nbconvert_exporter": "python",
   "pygments_lexer": "ipython3",
   "version": "3.7.3"
  }
 },
 "nbformat": 4,
 "nbformat_minor": 2
}
